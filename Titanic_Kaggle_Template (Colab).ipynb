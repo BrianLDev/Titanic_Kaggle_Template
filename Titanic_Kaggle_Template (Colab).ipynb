{
  "nbformat": 4,
  "nbformat_minor": 0,
  "metadata": {
    "colab": {
      "name": "Titanic_Kaggle_Template.ipynb",
      "provenance": [],
      "private_outputs": true,
      "collapsed_sections": [
        "71JBb8wUHpr8"
      ]
    },
    "kernelspec": {
      "display_name": "Python 3",
      "language": "python",
      "name": "python3"
    }
  },
  "cells": [
    {
      "cell_type": "markdown",
      "metadata": {
        "id": "8YZcPYIAqGbC",
        "colab_type": "text"
      },
      "source": [
        "# Template for the Titanic Machine Learning Competition on Kaggle.com"
      ]
    },
    {
      "cell_type": "markdown",
      "metadata": {
        "id": "8aWqzVveFwe5",
        "colab_type": "text"
      },
      "source": [
        "## 7 Steps of ML Projects\n",
        "The 7 Steps below are universal to the majority of Machine Learning / Data Science projects, so this structure can be carried forward to other projects:\n",
        "1. Frame the Problem and Ideate Potential Solutions\n",
        "2. Acquire the Data\n",
        "3. Exploratory Data Analysis (EDA)\n",
        "4. Data Wrangling\n",
        "5. Select and Train an ML Algorithm Model\n",
        "6. Evaluate Results and Fine-Tune Your Model\n",
        "7. Launch, Monitor, and Maintain Your System"
      ]
    },
    {
      "cell_type": "markdown",
      "metadata": {
        "id": "cUnOm_5Sq8GT",
        "colab_type": "text"
      },
      "source": [
        "# Step 1: Frame The Problem and Ideate Potential Solutions"
      ]
    },
    {
      "cell_type": "markdown",
      "metadata": {
        "id": "K3ume26s-FLx",
        "colab_type": "text"
      },
      "source": [
        "## Project Overview"
      ]
    },
    {
      "cell_type": "markdown",
      "metadata": {
        "id": "EC1HP9KVGYpK",
        "colab_type": "text"
      },
      "source": [
        "### Description:\n",
        "👋🛳️ Ahoy, welcome to Kaggle! You’re in the right place.\n",
        "This is the legendary Titanic ML competition – the best, first challenge for you to dive into ML competitions and familiarize yourself with how the Kaggle platform works.\n",
        "\n",
        "The competition is simple: use machine learning to create a model that predicts which passengers survived the Titanic shipwreck.\n",
        "\n",
        "Read on or watch the video below to explore more details. Once you’re ready to start competing, click on the [Join Competition button](https://www.kaggle.com/account/login?returnUrl=%2Fc%2Ftitanic) to create an account and gain access to the [competition data](https://www.kaggle.com/c/titanic/data). Then check out [Alexis Cook’s Titanic Tutorial](https://www.kaggle.com/alexisbcook/titanic-tutorial) that walks you through step by step how to make your first submission!"
      ]
    },
    {
      "cell_type": "markdown",
      "metadata": {
        "id": "zApoOHOxGbAh",
        "colab_type": "text"
      },
      "source": [
        "### The Challenge\n",
        "The sinking of the Titanic is one of the most infamous shipwrecks in history.\n",
        "\n",
        "On April 15, 1912, during her maiden voyage, the widely considered “unsinkable” RMS Titanic sank after colliding with an iceberg. Unfortunately, there weren’t enough lifeboats for everyone onboard, resulting in the death of 1502 out of 2224 passengers and crew.\n",
        "\n",
        "While there was some element of luck involved in surviving, it seems some groups of people were more likely to survive than others.\n",
        "\n",
        "In this challenge, we ask you to build a predictive model that answers the question: “what sorts of people were more likely to survive?” using passenger data (ie name, age, gender, socio-economic class, etc)."
      ]
    },
    {
      "cell_type": "markdown",
      "metadata": {
        "id": "tIfJGPyxGdYx",
        "colab_type": "text"
      },
      "source": [
        "### Full Description\n",
        "\n",
        "Read the full description on [kaggle.com/c/titanic](https://www.kaggle.com/c/titanic)\n",
        "\n",
        "---"
      ]
    },
    {
      "cell_type": "markdown",
      "metadata": {
        "id": "71JBb8wUHpr8",
        "colab_type": "text"
      },
      "source": [
        "## Ideate Potential Solutions"
      ]
    },
    {
      "cell_type": "markdown",
      "metadata": {
        "id": "E3uD-DoFLu7z",
        "colab_type": "text"
      },
      "source": [
        "For this project, the goal is relatively simple: predict whether a passenger on the Titanic survived based on the other data provided for that passenger.  The survival condition is already known, which means that we will need to use supervised learning methods for this project.  "
      ]
    },
    {
      "cell_type": "markdown",
      "metadata": {
        "id": "VnFOWunzLxyQ",
        "colab_type": "text"
      },
      "source": [
        "Examples of supervised learning ML algorithms are:\n",
        "- Linear Regression\n",
        "- Logistic Regression\n",
        "- k-Nearest Neighbors\n",
        "- Support Vector Machines (SVM)\n",
        "- Decision Trees and Random Forests\n",
        "- Neural Networks"
      ]
    },
    {
      "cell_type": "markdown",
      "metadata": {
        "id": "7I3-vu2JL0VA",
        "colab_type": "text"
      },
      "source": [
        "Since survival is a binary result (survived/died), a good initial approach would be to use Logistic Regression, which calculates survival rate between 0 and 1 (died vs survived) using the sigmoid function.\n",
        "\n",
        "We could also consider using ensemble learning methods like Decision Trees and Random Forests.  A Neural Network would also be a viable option for future iteration of this project.\n",
        "\n",
        "Once we have explored the dataset further, the optimal approach will become more apparent, so for now we will set the final decision on selecting an ML algorithm aside until we reach step 5."
      ]
    },
    {
      "cell_type": "markdown",
      "metadata": {
        "id": "QbYMguutw0U7",
        "colab_type": "text"
      },
      "source": [
        "# Step 2: Acquire the Data"
      ]
    },
    {
      "cell_type": "markdown",
      "metadata": {
        "id": "2Rpa7e44q9hG",
        "colab_type": "text"
      },
      "source": [
        "## Import Libraries"
      ]
    },
    {
      "cell_type": "code",
      "metadata": {
        "id": "R8l03wUUqGbO",
        "colab_type": "code",
        "colab": {}
      },
      "source": [
        "import pandas as pd\n",
        "import numpy as np\n",
        "import matplotlib.pyplot as plt\n",
        "import seaborn as sns\n",
        "%matplotlib inline"
      ],
      "execution_count": 0,
      "outputs": []
    },
    {
      "cell_type": "code",
      "metadata": {
        "id": "DoloRktKqGbF",
        "colab_type": "code",
        "colab": {}
      },
      "source": [
        "# install missingno - a useful tool for EDA and data cleaning\n",
        "!pip install -q  missingno"
      ],
      "execution_count": 0,
      "outputs": []
    },
    {
      "cell_type": "code",
      "metadata": {
        "id": "dANrprfiMRz1",
        "colab_type": "code",
        "colab": {}
      },
      "source": [
        "import missingno as ms"
      ],
      "execution_count": 0,
      "outputs": []
    },
    {
      "cell_type": "markdown",
      "metadata": {
        "id": "MksYS8zQigKr",
        "colab_type": "text"
      },
      "source": [
        "## Download the DataSets"
      ]
    },
    {
      "cell_type": "code",
      "metadata": {
        "id": "_rqWDCUsc4vJ",
        "colab_type": "code",
        "colab": {}
      },
      "source": [
        "# Check the working directory\n",
        "!pwd"
      ],
      "execution_count": 0,
      "outputs": []
    },
    {
      "cell_type": "markdown",
      "metadata": {
        "id": "VqFJvL_cVWcF",
        "colab_type": "text"
      },
      "source": [
        "#### Download the training dataset which we will use for EDA and to train the ML algorithm in steps 3-5"
      ]
    },
    {
      "cell_type": "code",
      "metadata": {
        "id": "03xKoWB_Yfjb",
        "colab_type": "code",
        "colab": {}
      },
      "source": [
        "import os.path    # this is used to check if the files have been downloaded yet"
      ],
      "execution_count": 0,
      "outputs": []
    },
    {
      "cell_type": "code",
      "metadata": {
        "id": "sZVi5KyVUKWL",
        "colab_type": "code",
        "colab": {}
      },
      "source": [
        "if (os.path.isfile('Titanic_Train.csv') ):\n",
        "  print(\"Skipping...file already downloaded\")\n",
        "else:\n",
        "  !wget -q \"https://www.dropbox.com/s/l81qx65hp5v0uhz/Titanic_Train.csv\""
      ],
      "execution_count": 0,
      "outputs": []
    },
    {
      "cell_type": "markdown",
      "metadata": {
        "id": "slwCmK8gXFyO",
        "colab_type": "text"
      },
      "source": [
        "#### Download the challenge dataset which is the final data we will predict survival rates on.  But since it also has useful info about the full combined dataset, upload it now and use it to assist with EDA and Data Wrangling"
      ]
    },
    {
      "cell_type": "code",
      "metadata": {
        "id": "qMGDn1WaW8BW",
        "colab_type": "code",
        "colab": {}
      },
      "source": [
        "if (os.path.isfile('Titanic_Challenge.csv') ):\n",
        "  print(\"Skipping...file already downloaded\")\n",
        "else:\n",
        "  !wget -q \"https://www.dropbox.com/s/ao1z8udj2j6zxqm/Titanic_Challenge.csv\""
      ],
      "execution_count": 0,
      "outputs": []
    },
    {
      "cell_type": "code",
      "metadata": {
        "id": "gmWCjQ-FSWGB",
        "colab_type": "code",
        "colab": {}
      },
      "source": [
        "# List the files in the working directory to make sure the files were downloaded\n",
        "!ls -l"
      ],
      "execution_count": 0,
      "outputs": []
    },
    {
      "cell_type": "code",
      "metadata": {
        "id": "NGWNIC97qGbU",
        "colab_type": "code",
        "colab": {}
      },
      "source": [
        "# load the training data into a Pandas dataframe\n",
        "train = pd.read_csv('Titanic_Train.csv')"
      ],
      "execution_count": 0,
      "outputs": []
    },
    {
      "cell_type": "code",
      "metadata": {
        "id": "VQArfkvzqGbX",
        "colab_type": "code",
        "colab": {}
      },
      "source": [
        "# Look at the first few records to make sure the data was loaded properly\n",
        "train.head(3)"
      ],
      "execution_count": 0,
      "outputs": []
    },
    {
      "cell_type": "code",
      "metadata": {
        "colab_type": "code",
        "id": "Hl2YLXIsWeWO",
        "colab": {}
      },
      "source": [
        "# load the challenge data into a Pandas dataframe\n",
        "challenge = pd.read_csv('Titanic_Challenge.csv')"
      ],
      "execution_count": 0,
      "outputs": []
    },
    {
      "cell_type": "code",
      "metadata": {
        "colab_type": "code",
        "id": "AY-eEXmPWd4F",
        "colab": {}
      },
      "source": [
        "# Look at the last few records to make sure the data was loaded properly\n",
        "challenge.tail(3)"
      ],
      "execution_count": 0,
      "outputs": []
    },
    {
      "cell_type": "markdown",
      "metadata": {
        "colab_type": "text",
        "id": "AZi-qNyoWdkd"
      },
      "source": [
        "Note that the \"Survived\" column is missing from the challenge dataset, since that is what we will be predicting."
      ]
    },
    {
      "cell_type": "code",
      "metadata": {
        "id": "nqjwnxz9Z9sk",
        "colab_type": "code",
        "colab": {}
      },
      "source": [
        "# set the PassengerId as the index since it is unique the dataset\n",
        "train.set_index('PassengerId', inplace=True)\n",
        "challenge.set_index('PassengerId', inplace=True)\n",
        "train.head(3)"
      ],
      "execution_count": 0,
      "outputs": []
    },
    {
      "cell_type": "code",
      "metadata": {
        "id": "V5_3HSf0Zpde",
        "colab_type": "code",
        "colab": {}
      },
      "source": [
        "# create a combined dataset to assist with EDA and understanding the full dataset\n",
        "combined = pd.concat([train, challenge], axis=0, sort=False)\n",
        "combined.head(3)"
      ],
      "execution_count": 0,
      "outputs": []
    },
    {
      "cell_type": "code",
      "metadata": {
        "id": "aFNs44HwblRP",
        "colab_type": "code",
        "colab": {}
      },
      "source": [
        "combined.tail(3)"
      ],
      "execution_count": 0,
      "outputs": []
    },
    {
      "cell_type": "markdown",
      "metadata": {
        "id": "1OGfkLAirQDw",
        "colab_type": "text"
      },
      "source": [
        "### First submission to Kaggle.com (benchmark)"
      ]
    },
    {
      "cell_type": "markdown",
      "metadata": {
        "id": "RVrEaV4lraLg",
        "colab_type": "text"
      },
      "source": [
        "Kaggle provides a pre-made submission file that predicts survival simply based on gender (male vs female).  This is a perfect way to test out the submission process on Kaggle.com, and to set a benchmark.  We can do better than just predicting survival by gender, right?  Consider it a challenge."
      ]
    },
    {
      "cell_type": "markdown",
      "metadata": {
        "id": "kuf3Q7kqr8hR",
        "colab_type": "text"
      },
      "source": [
        "#### Download the gender submission test data"
      ]
    },
    {
      "cell_type": "markdown",
      "metadata": {
        "id": "ZNAat6khtGXb",
        "colab_type": "text"
      },
      "source": [
        "#### Go to the [Kaggle Titanic Data web page](https://www.kaggle.com/c/titanic/data), find the Data Sources section, click on gender_submission, then click the download button to the right of the file name.  \n",
        "\n",
        "Alternatively, you can run the code block below which will automatically download the file to your computer, but I recommend downloading the file from Kaggle so you can get familiar with the website."
      ]
    },
    {
      "cell_type": "code",
      "metadata": {
        "id": "AnqAAFvtsGsH",
        "colab_type": "code",
        "colab": {}
      },
      "source": [
        "if (os.path.isfile('gender_submission.csv') ):\n",
        "  print(\"Skipping...file already downloaded\")\n",
        "else:\n",
        "  !wget -q \"https://www.dropbox.com/s/rsiv1oy4dffslvn/gender_submission.csv\""
      ],
      "execution_count": 0,
      "outputs": []
    },
    {
      "cell_type": "code",
      "metadata": {
        "id": "hx4HE3dOwfno",
        "colab_type": "code",
        "colab": {}
      },
      "source": [
        "from google.colab import files\n",
        "files.download('gender_submission.csv') "
      ],
      "execution_count": 0,
      "outputs": []
    },
    {
      "cell_type": "markdown",
      "metadata": {
        "id": "-WEAoSUTtooo",
        "colab_type": "text"
      },
      "source": [
        "#### It's time to submit!  Go to the [Kaggle Titanic Data web page](https://www.kaggle.com/c/titanic/data) and click the `Submit Predictions` blue button in the upper right corner.  Then upload the `gender_submission.csv` file you downloaded."
      ]
    },
    {
      "cell_type": "markdown",
      "metadata": {
        "id": "h5X9yKZauYjc",
        "colab_type": "text"
      },
      "source": [
        "Once you submit, it should tell you your score (between 0 and 100) like in the screenshot below."
      ]
    },
    {
      "cell_type": "markdown",
      "metadata": {
        "id": "FpZbAH1Ft3d9",
        "colab_type": "text"
      },
      "source": [
        "![image.png](data:image/png;base64,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)\n"
      ]
    },
    {
      "cell_type": "markdown",
      "metadata": {
        "id": "LRSWmmKhuhhh",
        "colab_type": "text"
      },
      "source": [
        "76.5% is surprisingly good for a wild ass guess!  Let's see if we can improve on that with more sophisticated methods.  Now we'll begin diving into the training dataset with some EDA."
      ]
    },
    {
      "cell_type": "markdown",
      "metadata": {
        "id": "dIQKjiAlqGdC",
        "colab_type": "text"
      },
      "source": [
        "# Step 3: Exploratory Data Analysis (EDA)"
      ]
    },
    {
      "cell_type": "markdown",
      "metadata": {
        "id": "qJbNPbw3UHnt",
        "colab_type": "text"
      },
      "source": [
        "## Inital examination of the dataset"
      ]
    },
    {
      "cell_type": "markdown",
      "metadata": {
        "id": "MeTMNldUzK-Z",
        "colab_type": "text"
      },
      "source": [
        "#### 3-A) What is the data type of `train`"
      ]
    },
    {
      "cell_type": "code",
      "metadata": {
        "id": "oeXMHo68qGbg",
        "colab_type": "code",
        "colab": {}
      },
      "source": [
        ""
      ],
      "execution_count": 0,
      "outputs": []
    },
    {
      "cell_type": "markdown",
      "metadata": {
        "id": "juteSQ-dzXez",
        "colab_type": "text"
      },
      "source": [
        "#### 3-B) What is the shape of `train` (rows and column counts)"
      ]
    },
    {
      "cell_type": "code",
      "metadata": {
        "id": "z6AqB_2ZqGbj",
        "colab_type": "code",
        "colab": {}
      },
      "source": [
        ""
      ],
      "execution_count": 0,
      "outputs": []
    },
    {
      "cell_type": "markdown",
      "metadata": {
        "id": "OWVBiUP-zmvR",
        "colab_type": "text"
      },
      "source": [
        "#### 3-C) run .info() on `train`"
      ]
    },
    {
      "cell_type": "code",
      "metadata": {
        "id": "8HTrlDouqGbm",
        "colab_type": "code",
        "colab": {}
      },
      "source": [
        ""
      ],
      "execution_count": 0,
      "outputs": []
    },
    {
      "cell_type": "markdown",
      "metadata": {
        "id": "Yts5OUCyzt2b",
        "colab_type": "text"
      },
      "source": [
        "#### 3-D) run .describe() on `train`"
      ]
    },
    {
      "cell_type": "code",
      "metadata": {
        "id": "Gn1GrNdDqGb-",
        "colab_type": "code",
        "colab": {}
      },
      "source": [
        ""
      ],
      "execution_count": 0,
      "outputs": []
    },
    {
      "cell_type": "markdown",
      "metadata": {
        "id": "V96p-LFazzSg",
        "colab_type": "text"
      },
      "source": [
        "#### 3-E) How many null values are within each column of `train`"
      ]
    },
    {
      "cell_type": "code",
      "metadata": {
        "id": "FZxB9U-fNexf",
        "colab_type": "code",
        "colab": {}
      },
      "source": [
        ""
      ],
      "execution_count": 0,
      "outputs": []
    },
    {
      "cell_type": "markdown",
      "metadata": {
        "id": "BFAcO5WDVHL-",
        "colab_type": "text"
      },
      "source": [
        "It looks like we have missing values in the Age, Cabin, and Embarked column that will need to be cleaned up and either dropped completely, or filled in with best estimates in order to use this data to properly train the ML algorithm."
      ]
    },
    {
      "cell_type": "markdown",
      "metadata": {
        "id": "XWVErzyW0AI8",
        "colab_type": "text"
      },
      "source": [
        "#### 3-F) How many null values within each column of the `combined` dataset"
      ]
    },
    {
      "cell_type": "code",
      "metadata": {
        "id": "6CyfcCbadO72",
        "colab_type": "code",
        "colab": {}
      },
      "source": [
        ""
      ],
      "execution_count": 0,
      "outputs": []
    },
    {
      "cell_type": "markdown",
      "metadata": {
        "id": "9NQmHde_0Kuv",
        "colab_type": "text"
      },
      "source": [
        "#### 3-G) Calculate the percentages of missing values for each column of the `combined` dataset"
      ]
    },
    {
      "cell_type": "code",
      "metadata": {
        "id": "k-6xK7x8cc0N",
        "colab_type": "code",
        "colab": {}
      },
      "source": [
        ""
      ],
      "execution_count": 0,
      "outputs": []
    },
    {
      "cell_type": "markdown",
      "metadata": {
        "id": "oSIov17z0RWK",
        "colab_type": "text"
      },
      "source": [
        "#### 3-H) Perform an Analysis of the data and what may need to be cleaned later.  Note that ML algorithms like Logistic Regression do not work well with missing data, or with non-numerical data, so that will need to be wrangled / cleaned / prepared in step 3."
      ]
    },
    {
      "cell_type": "markdown",
      "metadata": {
        "id": "Kp1jOZzbdVqt",
        "colab_type": "text"
      },
      "source": [
        ""
      ]
    },
    {
      "cell_type": "markdown",
      "metadata": {
        "id": "HGZZY5WgqGdO",
        "colab_type": "text"
      },
      "source": [
        "## Visualization of the data"
      ]
    },
    {
      "cell_type": "markdown",
      "metadata": {
        "id": "qVbxNqhz0vhE",
        "colab_type": "text"
      },
      "source": [
        "#### 3-I) Use ms.matrix() from missingno to visualize the missing data"
      ]
    },
    {
      "cell_type": "code",
      "metadata": {
        "id": "xwDfDthBqGdD",
        "colab_type": "code",
        "colab": {}
      },
      "source": [
        ""
      ],
      "execution_count": 0,
      "outputs": []
    },
    {
      "cell_type": "code",
      "metadata": {
        "id": "ZwitWaN_Vumz",
        "colab_type": "code",
        "colab": {}
      },
      "source": [
        "# set the style for Seaborn charts\n",
        "sns.set_style('whitegrid')"
      ],
      "execution_count": 0,
      "outputs": []
    },
    {
      "cell_type": "markdown",
      "metadata": {
        "id": "roeSRy-_06Dp",
        "colab_type": "text"
      },
      "source": [
        "#### 3-J) Use seaborn (sns) to plot a chart with 2 columns: died or survived (0 or 1)\n",
        "*hint: sns.countplot*"
      ]
    },
    {
      "cell_type": "code",
      "metadata": {
        "id": "FYnW2ls8qGde",
        "colab_type": "code",
        "colab": {}
      },
      "source": [
        ""
      ],
      "execution_count": 0,
      "outputs": []
    },
    {
      "cell_type": "markdown",
      "metadata": {
        "id": "RD5bVq1T1aLe",
        "colab_type": "text"
      },
      "source": [
        "#### 3-K) Use seaborn to plot a chart of survived vs. died, broken down by male vs female\n",
        "*hint: sns.countplot with hue='Sex'*"
      ]
    },
    {
      "cell_type": "code",
      "metadata": {
        "id": "5X0kVGCmqGdk",
        "colab_type": "code",
        "colab": {}
      },
      "source": [
        ""
      ],
      "execution_count": 0,
      "outputs": []
    },
    {
      "cell_type": "markdown",
      "metadata": {
        "id": "lRKx4Yot1_6R",
        "colab_type": "text"
      },
      "source": [
        "#### 3-L) Use seaborn to plot a chart of survived vs died, broken down by Pclass\n",
        "*hint: sns.countplot with hue='Pclass'*"
      ]
    },
    {
      "cell_type": "code",
      "metadata": {
        "id": "QpxCS2k2qGdn",
        "colab_type": "code",
        "colab": {}
      },
      "source": [
        ""
      ],
      "execution_count": 0,
      "outputs": []
    },
    {
      "cell_type": "markdown",
      "metadata": {
        "id": "SVJNN_cy2LPo",
        "colab_type": "text"
      },
      "source": [
        "#### 3-M) Use seaborn to plot a distribution of the amounts in `Fare`\n",
        "*hint: sns.distplot*"
      ]
    },
    {
      "cell_type": "code",
      "metadata": {
        "id": "VqU7t6mZqGdT",
        "colab_type": "code",
        "colab": {}
      },
      "source": [
        ""
      ],
      "execution_count": 0,
      "outputs": []
    },
    {
      "cell_type": "markdown",
      "metadata": {
        "id": "hMH3MD_02c2S",
        "colab_type": "text"
      },
      "source": [
        "#### 3-N) Plot a histogram (using any method you like) of the data in `Fare`"
      ]
    },
    {
      "cell_type": "code",
      "metadata": {
        "id": "0MvfzUUDqGdz",
        "colab_type": "code",
        "colab": {}
      },
      "source": [
        ""
      ],
      "execution_count": 0,
      "outputs": []
    },
    {
      "cell_type": "markdown",
      "metadata": {
        "id": "wr5KveI72uou",
        "colab_type": "text"
      },
      "source": [
        "#### 3-O) Calculate the correlation of each feature (column) vs. the other features (columns)\n",
        "*hint: .corr()*"
      ]
    },
    {
      "cell_type": "code",
      "metadata": {
        "id": "4HbbNaFHQlkQ",
        "colab_type": "code",
        "colab": {}
      },
      "source": [
        ""
      ],
      "execution_count": 0,
      "outputs": []
    },
    {
      "cell_type": "markdown",
      "metadata": {
        "id": "S27iKcoc29mr",
        "colab_type": "text"
      },
      "source": [
        "#### 3-P) Use seaborn to plot a heatmap of the correlation data\n",
        "*hint: sns.heatmap*"
      ]
    },
    {
      "cell_type": "code",
      "metadata": {
        "id": "8cOJ9fXNqGdU",
        "colab_type": "code",
        "colab": {}
      },
      "source": [
        ""
      ],
      "execution_count": 0,
      "outputs": []
    },
    {
      "cell_type": "markdown",
      "metadata": {
        "id": "hytBjHOh3Flj",
        "colab_type": "text"
      },
      "source": [
        "#### 3-Q) Plot a histogram of the `Age` data"
      ]
    },
    {
      "cell_type": "code",
      "metadata": {
        "id": "g1EPepxuqGdt",
        "colab_type": "code",
        "colab": {}
      },
      "source": [
        ""
      ],
      "execution_count": 0,
      "outputs": []
    },
    {
      "cell_type": "markdown",
      "metadata": {
        "id": "e0N5g0FM3NBp",
        "colab_type": "text"
      },
      "source": [
        "#### 3-R) Use Seaborn to create a boxplot of the `Age` data broken into the 3 `Pclass` columns\n",
        "*hint: sns.boxplot(x='Pclass', y=....)*"
      ]
    },
    {
      "cell_type": "code",
      "metadata": {
        "id": "aw9MHAg44-W5",
        "colab_type": "code",
        "colab": {}
      },
      "source": [
        ""
      ],
      "execution_count": 0,
      "outputs": []
    },
    {
      "cell_type": "markdown",
      "metadata": {
        "id": "ISMpzcSs3ha_",
        "colab_type": "text"
      },
      "source": [
        "#### 3-S) Use Seaborn to create a swarmplot of the `Age` data broken down into the 3 `Pclass` columns"
      ]
    },
    {
      "cell_type": "code",
      "metadata": {
        "id": "sebwPKFXqGdc",
        "colab_type": "code",
        "colab": {}
      },
      "source": [
        ""
      ],
      "execution_count": 0,
      "outputs": []
    },
    {
      "cell_type": "markdown",
      "metadata": {
        "id": "bzBbQPjTqGd3",
        "colab_type": "text"
      },
      "source": [
        "#### What insights do the above charts provide?"
      ]
    },
    {
      "cell_type": "markdown",
      "metadata": {
        "id": "xG35AZ1aqGd4",
        "colab_type": "text"
      },
      "source": [
        "# Step 4: Data Wrangling"
      ]
    },
    {
      "cell_type": "markdown",
      "metadata": {
        "id": "1gHOxKrICtld",
        "colab_type": "text"
      },
      "source": [
        "## Data Cleaning"
      ]
    },
    {
      "cell_type": "markdown",
      "metadata": {
        "id": "ihqoUiJkzfiq",
        "colab_type": "text"
      },
      "source": [
        "Re-examine the train dataset for missing values that need to be cleaned"
      ]
    },
    {
      "cell_type": "markdown",
      "metadata": {
        "id": "npP7AWXA3zWZ",
        "colab_type": "text"
      },
      "source": [
        "#### 4-A) Refresh your memory by running .info() on the `train` data and also get a could of the number of null values in each column.  This will make it easy for quick reference throughout section 4"
      ]
    },
    {
      "cell_type": "code",
      "metadata": {
        "id": "RBKz9jR-1qD8",
        "colab_type": "code",
        "colab": {}
      },
      "source": [
        ""
      ],
      "execution_count": 0,
      "outputs": []
    },
    {
      "cell_type": "code",
      "metadata": {
        "id": "u0vD_V-UWwm_",
        "colab_type": "code",
        "colab": {}
      },
      "source": [
        ""
      ],
      "execution_count": 0,
      "outputs": []
    },
    {
      "cell_type": "markdown",
      "metadata": {
        "id": "Fg_xWXO14ihG",
        "colab_type": "text"
      },
      "source": [
        "#### 4-B) Look at the data in the `Cabin` column to see if the unique values show any useful grouping of data"
      ]
    },
    {
      "cell_type": "code",
      "metadata": {
        "id": "HxeaUK2J0C45",
        "colab_type": "code",
        "colab": {}
      },
      "source": [
        ""
      ],
      "execution_count": 0,
      "outputs": []
    },
    {
      "cell_type": "markdown",
      "metadata": {
        "id": "KuNIZsyl4uKc",
        "colab_type": "text"
      },
      "source": [
        "#### 4-C) Nothing useful so drop the `Cabin` column from the train Dataset"
      ]
    },
    {
      "cell_type": "code",
      "metadata": {
        "id": "22vtPDfe0RNk",
        "colab_type": "code",
        "colab": {}
      },
      "source": [
        ""
      ],
      "execution_count": 0,
      "outputs": []
    },
    {
      "cell_type": "markdown",
      "metadata": {
        "id": "bb5Gzs_J43Pj",
        "colab_type": "text"
      },
      "source": [
        "#### 4-D) Recall that `Embarked` only has 2 records with missing data.  Drop those 2 rows from the `train` dataset and run a new .info() to make sure it is properly reflected on the `train` dataset."
      ]
    },
    {
      "cell_type": "code",
      "metadata": {
        "id": "CjSRh9O90wR5",
        "colab_type": "code",
        "colab": {}
      },
      "source": [
        ""
      ],
      "execution_count": 0,
      "outputs": []
    },
    {
      "cell_type": "code",
      "metadata": {
        "id": "PNKpeOfP14JK",
        "colab_type": "code",
        "colab": {}
      },
      "source": [
        ""
      ],
      "execution_count": 0,
      "outputs": []
    },
    {
      "cell_type": "markdown",
      "metadata": {
        "id": "KwJss1Ks2Mh-",
        "colab_type": "text"
      },
      "source": [
        "Now all that's left is the Age column.  If this is your first time doing this project, simply fill in the blanks with the average age of all passengers.  In a future run, are there any other ways you can fill in the average age for the passengers? (hint: look at the visualizaions above)"
      ]
    },
    {
      "cell_type": "markdown",
      "metadata": {
        "id": "keae7Zev5M4x",
        "colab_type": "text"
      },
      "source": [
        "#### 4-E) Calculate the average `Age` of the `combined` dataset"
      ]
    },
    {
      "cell_type": "code",
      "metadata": {
        "id": "hFPqwPZa2_xh",
        "colab_type": "code",
        "colab": {}
      },
      "source": [
        ""
      ],
      "execution_count": 0,
      "outputs": []
    },
    {
      "cell_type": "markdown",
      "metadata": {
        "id": "xQhuWHkS5Vab",
        "colab_type": "text"
      },
      "source": [
        "#### 4-F) Use this average age to fill in any `NaN` values in the `train` dataset"
      ]
    },
    {
      "cell_type": "code",
      "metadata": {
        "id": "h9pVKJFj31SK",
        "colab_type": "code",
        "colab": {}
      },
      "source": [
        ""
      ],
      "execution_count": 0,
      "outputs": []
    },
    {
      "cell_type": "markdown",
      "metadata": {
        "id": "L2rZMdKA5fcA",
        "colab_type": "text"
      },
      "source": [
        "#### 4-G) That should take care of all the missing values.  Run a fresh .info() and ms.matrix() to ensure all missing values are handled."
      ]
    },
    {
      "cell_type": "code",
      "metadata": {
        "id": "GHaMo5Dp37T_",
        "colab_type": "code",
        "colab": {}
      },
      "source": [
        ""
      ],
      "execution_count": 0,
      "outputs": []
    },
    {
      "cell_type": "code",
      "metadata": {
        "id": "ARNHDVEN4Iv4",
        "colab_type": "code",
        "colab": {}
      },
      "source": [
        ""
      ],
      "execution_count": 0,
      "outputs": []
    },
    {
      "cell_type": "markdown",
      "metadata": {
        "id": "LYXk8AEN4G4u",
        "colab_type": "text"
      },
      "source": [
        "Now all the missing data has been taken care of.  The next step is to get any data with a type of 'Object' (e.g. Text or Categorical data) to a numeric value in order for them to be properly utilized by the ML algorithm"
      ]
    },
    {
      "cell_type": "markdown",
      "metadata": {
        "id": "oR-3amnaqGeO",
        "colab_type": "text"
      },
      "source": [
        "## Converting Categorical Features \n",
        "\n",
        "We'll need to convert categorical features to numerical variables so that our ML algorithm can use those values as inputs.\n",
        "Current Non-numerical (object) data:\n",
        "- Name\n",
        "- Sex\n",
        "- Ticket\n",
        "- Embarked"
      ]
    },
    {
      "cell_type": "markdown",
      "metadata": {
        "id": "HNa0T3bN7-Yw",
        "colab_type": "text"
      },
      "source": [
        "### Name"
      ]
    },
    {
      "cell_type": "markdown",
      "metadata": {
        "id": "vkoOwkPm7oNg",
        "colab_type": "text"
      },
      "source": [
        "#### 4-H) Look at the count of unique values in Ticket to see if it has any data useful to predict survival"
      ]
    },
    {
      "cell_type": "code",
      "metadata": {
        "id": "ejB5xmBNE54J",
        "colab_type": "code",
        "colab": {}
      },
      "source": [
        ""
      ],
      "execution_count": 0,
      "outputs": []
    },
    {
      "cell_type": "markdown",
      "metadata": {
        "id": "9IZ_UVWaFBvD",
        "colab_type": "text"
      },
      "source": [
        "#### 4-I) Nothing jumps out as useful here.  Drop it.  \n",
        "*For a future project, consider if any titles could be used in the future (Miss vs. Mrs., any nobility titles like Sir?)*"
      ]
    },
    {
      "cell_type": "code",
      "metadata": {
        "id": "2dNQaXwtFb9y",
        "colab_type": "code",
        "colab": {}
      },
      "source": [
        ""
      ],
      "execution_count": 0,
      "outputs": []
    },
    {
      "cell_type": "markdown",
      "metadata": {
        "id": "KN1gC3Ey8DzA",
        "colab_type": "text"
      },
      "source": [
        "### Sex"
      ]
    },
    {
      "cell_type": "code",
      "metadata": {
        "id": "0vtZYikmMgkS",
        "colab_type": "code",
        "colab": {}
      },
      "source": [
        ""
      ],
      "execution_count": 0,
      "outputs": []
    },
    {
      "cell_type": "markdown",
      "metadata": {
        "id": "hvkG-2sP7xDX",
        "colab_type": "text"
      },
      "source": [
        "#### 4-K) Use Pandas `get_dummies` feature to convert sex of 'male' or 'female' into simplified male 0 or 1 (no or yes)\n"
      ]
    },
    {
      "cell_type": "code",
      "metadata": {
        "id": "sqpnF1tlvxfi",
        "colab_type": "code",
        "colab": {}
      },
      "source": [
        ""
      ],
      "execution_count": 0,
      "outputs": []
    },
    {
      "cell_type": "markdown",
      "metadata": {
        "id": "3kRaKozQv2lA",
        "colab_type": "text"
      },
      "source": [
        "#### 4-L) Since it can only be a 0 or a 1, we don't need both male and female columns in this case.  Let's isolate it to just the male column"
      ]
    },
    {
      "cell_type": "code",
      "metadata": {
        "id": "2j5npHKGqGeS",
        "colab_type": "code",
        "colab": {}
      },
      "source": [
        ""
      ],
      "execution_count": 0,
      "outputs": []
    },
    {
      "cell_type": "markdown",
      "metadata": {
        "id": "QiYCTN_T8PAX",
        "colab_type": "text"
      },
      "source": [
        "#### 4-M) Replace the existing `Sex` column in the `train` dataset with the new `male` column in the `sex` data"
      ]
    },
    {
      "cell_type": "code",
      "metadata": {
        "id": "FIZX6yPX6_lD",
        "colab_type": "code",
        "colab": {}
      },
      "source": [
        ""
      ],
      "execution_count": 0,
      "outputs": []
    },
    {
      "cell_type": "markdown",
      "metadata": {
        "id": "UEyrY4ER8ZXC",
        "colab_type": "text"
      },
      "source": [
        "### Ticket"
      ]
    },
    {
      "cell_type": "markdown",
      "metadata": {
        "id": "IeMXmE_I8lIF",
        "colab_type": "text"
      },
      "source": [
        "#### 4-N) Look at the count of unique values in Ticket to see if it has any data useful to predict survival"
      ]
    },
    {
      "cell_type": "code",
      "metadata": {
        "id": "rsABUYFu8fFd",
        "colab_type": "code",
        "colab": {}
      },
      "source": [
        ""
      ],
      "execution_count": 0,
      "outputs": []
    },
    {
      "cell_type": "markdown",
      "metadata": {
        "id": "0CrdDigl8yXa",
        "colab_type": "text"
      },
      "source": [
        "#### 4-O) Nothing useful.  Drop it"
      ]
    },
    {
      "cell_type": "code",
      "metadata": {
        "id": "wJzZ6ZjC8yD0",
        "colab_type": "code",
        "colab": {}
      },
      "source": [
        ""
      ],
      "execution_count": 0,
      "outputs": []
    },
    {
      "cell_type": "markdown",
      "metadata": {
        "id": "n-jgmCfg8bSQ",
        "colab_type": "text"
      },
      "source": [
        "### Embarked"
      ]
    },
    {
      "cell_type": "markdown",
      "metadata": {
        "id": "34jjEBAA9LsE",
        "colab_type": "text"
      },
      "source": [
        "#### 4-P) Look at the count of unique values in Embarked to see if it has any data useful to predict survival"
      ]
    },
    {
      "cell_type": "code",
      "metadata": {
        "id": "X1iN1CpyqGeO",
        "colab_type": "code",
        "colab": {}
      },
      "source": [
        ""
      ],
      "execution_count": 0,
      "outputs": []
    },
    {
      "cell_type": "markdown",
      "metadata": {
        "id": "99Nlv0FH9o46",
        "colab_type": "text"
      },
      "source": [
        "#### 4-Q) Similar to the `Sex` column above, use pandas `get_dummies` function to separate Embarked into 3 separate columns of binary data (0 or 1)"
      ]
    },
    {
      "cell_type": "code",
      "metadata": {
        "id": "g0MATmIVkivn",
        "colab_type": "code",
        "colab": {}
      },
      "source": [
        ""
      ],
      "execution_count": 0,
      "outputs": []
    },
    {
      "cell_type": "markdown",
      "metadata": {
        "id": "540MA1na-kjb",
        "colab_type": "text"
      },
      "source": [
        "#### 4-R) Drop the old Embarked column"
      ]
    },
    {
      "cell_type": "code",
      "metadata": {
        "id": "2QS9FYFN-qCv",
        "colab_type": "code",
        "colab": {}
      },
      "source": [
        ""
      ],
      "execution_count": 0,
      "outputs": []
    },
    {
      "cell_type": "markdown",
      "metadata": {
        "id": "Eu6Sc9DE_VSa",
        "colab_type": "text"
      },
      "source": [
        "#### 4-S) Add the new C, Q, S columns"
      ]
    },
    {
      "cell_type": "code",
      "metadata": {
        "id": "Chrs7UnL_QSA",
        "colab_type": "code",
        "colab": {}
      },
      "source": [
        ""
      ],
      "execution_count": 0,
      "outputs": []
    },
    {
      "cell_type": "markdown",
      "metadata": {
        "id": "TTpr6wCSGCjf",
        "colab_type": "text"
      },
      "source": [
        "#### 4-T) Run `.info()` on the training dataset to ensure all features are now numerical and no objects remain.  Then run .describe() to get a feel for the average values and distribution of data"
      ]
    },
    {
      "cell_type": "code",
      "metadata": {
        "id": "SlYEhjkfBurl",
        "colab_type": "code",
        "colab": {}
      },
      "source": [
        ""
      ],
      "execution_count": 0,
      "outputs": []
    },
    {
      "cell_type": "code",
      "metadata": {
        "id": "gqp49FYeqGeg",
        "colab_type": "code",
        "colab": {}
      },
      "source": [
        ""
      ],
      "execution_count": 0,
      "outputs": []
    },
    {
      "cell_type": "markdown",
      "metadata": {
        "id": "jxlMr97iqGei",
        "colab_type": "text"
      },
      "source": [
        "# Step 5: Select and Train an ML Algorithm Model"
      ]
    },
    {
      "cell_type": "markdown",
      "metadata": {
        "id": "JNakhR15DEKS",
        "colab_type": "text"
      },
      "source": [
        "For steps 5 and 6, simply follow along by reading the code, and running each cell one by one. You should aim to understand the overall picture of what's going on, even if the inner workings of the algorithm is a black box at the moment."
      ]
    },
    {
      "cell_type": "markdown",
      "metadata": {
        "id": "1svSbe48rkAL",
        "colab_type": "text"
      },
      "source": [
        "## Building a Logistic Regression model"
      ]
    },
    {
      "cell_type": "markdown",
      "metadata": {
        "id": "a0oVxECWCy_7",
        "colab_type": "text"
      },
      "source": [
        "#### Split the data between dependent (X) and independent (y) variables.  y is what we are solving for"
      ]
    },
    {
      "cell_type": "code",
      "metadata": {
        "id": "_zyebrQ3moR5",
        "colab_type": "code",
        "colab": {}
      },
      "source": [
        "X = train.drop('Survived',axis=1)\n",
        "y = train['Survived']"
      ],
      "execution_count": 0,
      "outputs": []
    },
    {
      "cell_type": "code",
      "metadata": {
        "id": "lrY-wi0Tn3Pe",
        "colab_type": "code",
        "colab": {}
      },
      "source": [
        "y.shape"
      ],
      "execution_count": 0,
      "outputs": []
    },
    {
      "cell_type": "markdown",
      "metadata": {
        "id": "8pPeSRuyDmbA",
        "colab_type": "text"
      },
      "source": [
        "#### Import train_test_split from Sci Kit Learn.  This takes our training data and separates it into 2 pieces in order to avoid perfectly fitting the algorithm to the data.  Typically around 70%-90% of the data is used to train, and 10%-30% of the data is used to test.  \n",
        "`test_size` of 0.20 means 20% of the data is reserved for testing."
      ]
    },
    {
      "cell_type": "code",
      "metadata": {
        "id": "3bH6QYxaqGek",
        "colab_type": "code",
        "colab": {}
      },
      "source": [
        "from sklearn.model_selection import train_test_split"
      ],
      "execution_count": 0,
      "outputs": []
    },
    {
      "cell_type": "code",
      "metadata": {
        "id": "E22tvUEmqGel",
        "colab_type": "code",
        "colab": {}
      },
      "source": [
        "X_train, X_test, y_train, y_test = train_test_split(X,y \n",
        "                                                    , test_size=0.20, \n",
        "                                                    random_state=42)"
      ],
      "execution_count": 0,
      "outputs": []
    },
    {
      "cell_type": "code",
      "metadata": {
        "id": "CxgtZEpIoCN3",
        "colab_type": "code",
        "colab": {}
      },
      "source": [
        "X_test.shape"
      ],
      "execution_count": 0,
      "outputs": []
    },
    {
      "cell_type": "code",
      "metadata": {
        "id": "5jf2Zl2NqGeo",
        "colab_type": "code",
        "colab": {}
      },
      "source": [
        "len(y_test)"
      ],
      "execution_count": 0,
      "outputs": []
    },
    {
      "cell_type": "code",
      "metadata": {
        "id": "6oRS_E2OqGer",
        "colab_type": "code",
        "colab": {}
      },
      "source": [
        "# check what % of the original y dataset is allocated to y_test\n",
        "len(y_test) / len(y) * 100"
      ],
      "execution_count": 0,
      "outputs": []
    },
    {
      "cell_type": "code",
      "metadata": {
        "id": "oO4Trs9REF5O",
        "colab_type": "code",
        "colab": {}
      },
      "source": [
        "X.describe()"
      ],
      "execution_count": 0,
      "outputs": []
    },
    {
      "cell_type": "code",
      "metadata": {
        "id": "FTxIcZWgD663",
        "colab_type": "code",
        "colab": {}
      },
      "source": [
        "X_train.describe()"
      ],
      "execution_count": 0,
      "outputs": []
    },
    {
      "cell_type": "code",
      "metadata": {
        "id": "sffWlj4dDvo1",
        "colab_type": "code",
        "colab": {}
      },
      "source": [
        "y_train.describe()"
      ],
      "execution_count": 0,
      "outputs": []
    },
    {
      "cell_type": "markdown",
      "metadata": {
        "id": "1DFci6LuG9XK",
        "colab_type": "text"
      },
      "source": [
        "#### Import the ML Algorithm"
      ]
    },
    {
      "cell_type": "code",
      "metadata": {
        "id": "KKzr-_boqGes",
        "colab_type": "code",
        "colab": {}
      },
      "source": [
        "from sklearn.linear_model import LogisticRegression"
      ],
      "execution_count": 0,
      "outputs": []
    },
    {
      "cell_type": "markdown",
      "metadata": {
        "id": "Vf8wiRsdHBlJ",
        "colab_type": "text"
      },
      "source": [
        "#### Build and Train the ML Algorithm"
      ]
    },
    {
      "cell_type": "code",
      "metadata": {
        "id": "bVtfScF1Gwjd",
        "colab_type": "code",
        "colab": {}
      },
      "source": [
        "logmodel = LogisticRegression()\n",
        "logmodel.fit(X_train,y_train) # this is where training happens"
      ],
      "execution_count": 0,
      "outputs": []
    },
    {
      "cell_type": "code",
      "metadata": {
        "id": "UQmeZG9JG31I",
        "colab_type": "code",
        "colab": {}
      },
      "source": [
        "# Increase Max Iterations from 100 (default) to 1000\n",
        "logmodel = LogisticRegression(max_iter=1000)\n",
        "logmodel.fit(X_train,y_train) # this is where training happens"
      ],
      "execution_count": 0,
      "outputs": []
    },
    {
      "cell_type": "markdown",
      "metadata": {
        "id": "bJz6wvkBIEGg",
        "colab_type": "text"
      },
      "source": [
        "#### Predict survival on the first 5 to see if the model is somewhat accurate"
      ]
    },
    {
      "cell_type": "code",
      "metadata": {
        "id": "S8bdMGNbqGet",
        "colab_type": "code",
        "colab": {}
      },
      "source": [
        "predict =  logmodel.predict(X_test)\n",
        "predict[:5]"
      ],
      "execution_count": 0,
      "outputs": []
    },
    {
      "cell_type": "code",
      "metadata": {
        "id": "J5CkHvS-qGev",
        "colab_type": "code",
        "colab": {}
      },
      "source": [
        "y_test[:5]"
      ],
      "execution_count": 0,
      "outputs": []
    },
    {
      "cell_type": "markdown",
      "metadata": {
        "id": "MxQbphc5r2fF",
        "colab_type": "text"
      },
      "source": [
        "# Step 6: Evaluate Results and Fine-Tune Your Model"
      ]
    },
    {
      "cell_type": "markdown",
      "metadata": {
        "id": "AyjOcjpCKTIJ",
        "colab_type": "text"
      },
      "source": [
        "## Evaluate the Feature Weights"
      ]
    },
    {
      "cell_type": "markdown",
      "metadata": {
        "id": "24O6vAywHtKV",
        "colab_type": "text"
      },
      "source": [
        "#### Get the y intercept of the model.  This is the baseline survival rate when setting aside all other features"
      ]
    },
    {
      "cell_type": "code",
      "metadata": {
        "id": "7Pix1UTpo_Wc",
        "colab_type": "code",
        "colab": {}
      },
      "source": [
        "logmodel.intercept_"
      ],
      "execution_count": 0,
      "outputs": []
    },
    {
      "cell_type": "markdown",
      "metadata": {
        "id": "GXsERGR8HVuL",
        "colab_type": "text"
      },
      "source": [
        "#### Get the weights (coefficients) for each of the features.  The numbers below represent how much impact each feature (column) has on the survival rate."
      ]
    },
    {
      "cell_type": "code",
      "metadata": {
        "id": "9YAKpVMVsmYx",
        "colab_type": "code",
        "colab": {}
      },
      "source": [
        "coef = logmodel.coef_\n",
        "coef"
      ],
      "execution_count": 0,
      "outputs": []
    },
    {
      "cell_type": "markdown",
      "metadata": {
        "id": "xQHVbQPaKBB0",
        "colab_type": "text"
      },
      "source": [
        "#### Combine the feature labels with the feature weights (coefficients) to determine which had the largest impact"
      ]
    },
    {
      "cell_type": "code",
      "metadata": {
        "id": "0IbycXOwL3aW",
        "colab_type": "code",
        "colab": {}
      },
      "source": [
        "# flatten out the nested weights array into a list\n",
        "coef = list(coef[0])\n",
        "coef"
      ],
      "execution_count": 0,
      "outputs": []
    },
    {
      "cell_type": "code",
      "metadata": {
        "id": "myOLxQoGLAkS",
        "colab_type": "code",
        "colab": {}
      },
      "source": [
        "# Get the columns we're going to match with the weights\n",
        "features = X_test.columns\n",
        "features"
      ],
      "execution_count": 0,
      "outputs": []
    },
    {
      "cell_type": "code",
      "metadata": {
        "id": "kZYMHFnvKwE9",
        "colab_type": "code",
        "colab": {}
      },
      "source": [
        "weights = list(zip(features, coef))\n",
        "weights = pd.DataFrame(weights)\n",
        "weights.columns = ['Feature', 'Weight']\n",
        "weights.set_index('Feature', inplace=True)\n",
        "weights.sort_values(by='Weight', inplace=True)\n",
        "weights"
      ],
      "execution_count": 0,
      "outputs": []
    },
    {
      "cell_type": "markdown",
      "metadata": {
        "id": "uPndhspZRTXJ",
        "colab_type": "text"
      },
      "source": [
        "#### Analysis"
      ]
    },
    {
      "cell_type": "markdown",
      "metadata": {
        "id": "aggxfWLkPh2V",
        "colab_type": "text"
      },
      "source": [
        "As the weights show, Sex (male vs female) had the largest impact on survival rate on the Titanic.  Which makes sense because of the 'women and children first' mentality.  \n",
        "\n",
        "The 2nd largest impact on survival was Pclass, which also passes the logic test because higher numbers in the class category (3rd class), are less wealthy / paid for a less expensive ticket, and less likely to be catered to than the wealthy 1st class.  \n",
        "\n",
        "The other features seem to have less of an impact compared to these top two"
      ]
    },
    {
      "cell_type": "markdown",
      "metadata": {
        "id": "FtA5kul0qGew",
        "colab_type": "text"
      },
      "source": [
        "## Evaluate the Robustness of the ML Model"
      ]
    },
    {
      "cell_type": "markdown",
      "metadata": {
        "id": "K7-QoN8RInHN",
        "colab_type": "text"
      },
      "source": [
        "There are a number of ways to evaluate the effectiveness of an ML algorithm.  Popular tests include:\n",
        "- Confusion Matrix\n",
        "- Precision Score\n",
        "- Recall score\n",
        "- f1 Score\n",
        "- Classification Report (combines all the above together)"
      ]
    },
    {
      "cell_type": "markdown",
      "metadata": {
        "id": "OHiyGYVpqGew",
        "colab_type": "text"
      },
      "source": [
        "#### Confusion Matrix"
      ]
    },
    {
      "cell_type": "code",
      "metadata": {
        "id": "Qms9QjqeqGex",
        "colab_type": "code",
        "colab": {}
      },
      "source": [
        "from sklearn.metrics import confusion_matrix, classification_report"
      ],
      "execution_count": 0,
      "outputs": []
    },
    {
      "cell_type": "markdown",
      "metadata": {
        "id": "oFrtqs9vqGez",
        "colab_type": "text"
      },
      "source": [
        "## Confusion Matrix\n",
        "\n",
        "True positive   |\tFalse positive,  \n",
        "________________|________________  \n",
        "                |                  \n",
        "False negative  |\tTrue negative    "
      ]
    },
    {
      "cell_type": "code",
      "metadata": {
        "id": "xoJmRVG7qGez",
        "colab_type": "code",
        "colab": {}
      },
      "source": [
        "print(confusion_matrix(y_test, predict))"
      ],
      "execution_count": 0,
      "outputs": []
    },
    {
      "cell_type": "markdown",
      "metadata": {
        "id": "8q-7xR9lJhdi",
        "colab_type": "text"
      },
      "source": [
        "#### Accuracy Score"
      ]
    },
    {
      "cell_type": "code",
      "metadata": {
        "id": "0GqHdAFBWNFD",
        "colab_type": "code",
        "colab": {}
      },
      "source": [
        "from sklearn.metrics import accuracy_score\n",
        "print(accuracy_score(y_test,predict))"
      ],
      "execution_count": 0,
      "outputs": []
    },
    {
      "cell_type": "markdown",
      "metadata": {
        "id": "9Z1-yu_vqGe2",
        "colab_type": "text"
      },
      "source": [
        "#### Precision Score"
      ]
    },
    {
      "cell_type": "markdown",
      "metadata": {
        "id": "mcj-1sHYqGe2",
        "colab_type": "text"
      },
      "source": [
        "The precision is the ratio tp / (tp + fp) where tp is the number of true positives and fp the number of false positives. The precision is intuitively the ability of the classifier not to label as positive a sample that is negative.\n",
        "\n",
        "The best value is 1 and the worst value is 0."
      ]
    },
    {
      "cell_type": "code",
      "metadata": {
        "id": "65HchaaPqGe4",
        "colab_type": "code",
        "colab": {}
      },
      "source": [
        "from sklearn.metrics import precision_score"
      ],
      "execution_count": 0,
      "outputs": []
    },
    {
      "cell_type": "code",
      "metadata": {
        "id": "c_I5eE7uqGe6",
        "colab_type": "code",
        "colab": {}
      },
      "source": [
        "print(precision_score(y_test,predict))"
      ],
      "execution_count": 0,
      "outputs": []
    },
    {
      "cell_type": "markdown",
      "metadata": {
        "id": "ndN57PlvqGe9",
        "colab_type": "text"
      },
      "source": [
        "#### Recall score"
      ]
    },
    {
      "cell_type": "markdown",
      "metadata": {
        "id": "wnfIk5lhqGe9",
        "colab_type": "text"
      },
      "source": [
        "The recall is the ratio tp / (tp + fn) where tp is the number of true positives and fn the number of false negatives. The recall is intuitively the ability of the classifier to find all the positive samples.\n",
        "\n",
        "The best value is 1 and the worst value is 0."
      ]
    },
    {
      "cell_type": "code",
      "metadata": {
        "id": "XjigXG56qGe9",
        "colab_type": "code",
        "colab": {}
      },
      "source": [
        "from sklearn.metrics import recall_score"
      ],
      "execution_count": 0,
      "outputs": []
    },
    {
      "cell_type": "code",
      "metadata": {
        "id": "buu1n6O3qGe_",
        "colab_type": "code",
        "colab": {}
      },
      "source": [
        "print(recall_score(y_test,predict))"
      ],
      "execution_count": 0,
      "outputs": []
    },
    {
      "cell_type": "markdown",
      "metadata": {
        "id": "XBU67SX3qGfA",
        "colab_type": "text"
      },
      "source": [
        "#### f1_score"
      ]
    },
    {
      "cell_type": "markdown",
      "metadata": {
        "id": "HDraVqivqGfA",
        "colab_type": "text"
      },
      "source": [
        "The F1 score can be interpreted as a weighted average of the precision and recall, where an F1 score reaches its best value at 1 and worst score at 0. The relative contribution of precision and recall to the F1 score are equal. The formula for the F1 score is:\n",
        "                F1 = 2 \\* (precision \\* recall) / (precision + recall)"
      ]
    },
    {
      "cell_type": "code",
      "metadata": {
        "id": "9R8FIjtdqGfA",
        "colab_type": "code",
        "colab": {}
      },
      "source": [
        "from sklearn.metrics import f1_score"
      ],
      "execution_count": 0,
      "outputs": []
    },
    {
      "cell_type": "code",
      "metadata": {
        "id": "8gI5gjbLqGfC",
        "colab_type": "code",
        "colab": {}
      },
      "source": [
        "print(f1_score(y_test,predict))"
      ],
      "execution_count": 0,
      "outputs": []
    },
    {
      "cell_type": "markdown",
      "metadata": {
        "id": "t9YzG2swqGfF",
        "colab_type": "text"
      },
      "source": [
        "To get all the above metrics at one go, use the following function:"
      ]
    },
    {
      "cell_type": "code",
      "metadata": {
        "id": "cUCMnocIqGfF",
        "colab_type": "code",
        "colab": {}
      },
      "source": [
        "from sklearn.metrics import classification_report"
      ],
      "execution_count": 0,
      "outputs": []
    },
    {
      "cell_type": "code",
      "metadata": {
        "id": "WpCBr2d2qGfG",
        "colab_type": "code",
        "colab": {}
      },
      "source": [
        "print(classification_report(y_test,predict))"
      ],
      "execution_count": 0,
      "outputs": []
    },
    {
      "cell_type": "markdown",
      "metadata": {
        "id": "T_fkmW6Lr5sc",
        "colab_type": "text"
      },
      "source": [
        "# Step 7: Launch, Monitor, and Maintain Your System"
      ]
    },
    {
      "cell_type": "markdown",
      "metadata": {
        "id": "8jw68DIRqGfH",
        "colab_type": "text"
      },
      "source": [
        "## Prediction on Challenge Data From Kaggle"
      ]
    },
    {
      "cell_type": "markdown",
      "metadata": {
        "id": "-DBlDCCATaTo",
        "colab_type": "text"
      },
      "source": [
        "## Step 7-2: Acquire the Challenge Data"
      ]
    },
    {
      "cell_type": "markdown",
      "metadata": {
        "id": "0OnJTW2xX7s8",
        "colab_type": "text"
      },
      "source": [
        "Recall that we already downloaded this data in step 2, under the dataframe named `challenge`.  Refresh ourselves here by looking at the data.  \n",
        "\n",
        "*Note that Kaggle calls this dataset `test` but it was renamed to `challenge` to avoid confusion with the train/test split in previous steps.*"
      ]
    },
    {
      "cell_type": "markdown",
      "metadata": {
        "id": "Q0pAbkopYxlg",
        "colab_type": "text"
      },
      "source": [
        "## Step 7-3: EDA"
      ]
    },
    {
      "cell_type": "markdown",
      "metadata": {
        "id": "1c-B4fYy7FTA",
        "colab_type": "text"
      },
      "source": [
        "#### 7-3A) Run ms.matrix and .info() on the challenge dataset"
      ]
    },
    {
      "cell_type": "code",
      "metadata": {
        "id": "vNf6DKNSZ0Y2",
        "colab_type": "code",
        "colab": {}
      },
      "source": [
        ""
      ],
      "execution_count": 0,
      "outputs": []
    },
    {
      "cell_type": "code",
      "metadata": {
        "colab_type": "code",
        "id": "5KXweK9jWex1",
        "colab": {}
      },
      "source": [
        ""
      ],
      "execution_count": 0,
      "outputs": []
    },
    {
      "cell_type": "markdown",
      "metadata": {
        "id": "rQum5uxUY14G",
        "colab_type": "text"
      },
      "source": [
        "## Step 7-4: Data Wrangling"
      ]
    },
    {
      "cell_type": "markdown",
      "metadata": {
        "id": "chVX6DIMZ8sD",
        "colab_type": "text"
      },
      "source": [
        "We will need to perform the same data wrangling on the challenge data that we did previously on the train data."
      ]
    },
    {
      "cell_type": "markdown",
      "metadata": {
        "id": "ktCVvFh8c4mW",
        "colab_type": "text"
      },
      "source": [
        "#### Data Wrangling to be completed:\n",
        "- Drop any columns that cannot be converted to numeric (Name, Ticket)\n",
        "- Fill or drop missing values (Age, Fare, Cabin)\n",
        "- Convert categorical values to numerical (Sex, Embarked)\n"
      ]
    },
    {
      "cell_type": "markdown",
      "metadata": {
        "id": "LmIODfqmeNDw",
        "colab_type": "text"
      },
      "source": [
        "#### 7-4A) Drop any columns that cannot be converted to numeric (Name, Ticket)"
      ]
    },
    {
      "cell_type": "code",
      "metadata": {
        "id": "5H_j66AdhuEh",
        "colab_type": "code",
        "colab": {}
      },
      "source": [
        ""
      ],
      "execution_count": 0,
      "outputs": []
    },
    {
      "cell_type": "markdown",
      "metadata": {
        "id": "mrJ-ICqyeD4c",
        "colab_type": "text"
      },
      "source": [
        "#### 7-4B) Fill or drop missing values (Age, Fare, Cabin)"
      ]
    },
    {
      "cell_type": "code",
      "metadata": {
        "id": "ofmycWDnexKb",
        "colab_type": "code",
        "colab": {}
      },
      "source": [
        ""
      ],
      "execution_count": 0,
      "outputs": []
    },
    {
      "cell_type": "markdown",
      "metadata": {
        "id": "UPgXpnB3fEtf",
        "colab_type": "text"
      },
      "source": [
        "##### Cabin"
      ]
    },
    {
      "cell_type": "code",
      "metadata": {
        "id": "DKBHnLkLeWa3",
        "colab_type": "code",
        "colab": {}
      },
      "source": [
        ""
      ],
      "execution_count": 0,
      "outputs": []
    },
    {
      "cell_type": "markdown",
      "metadata": {
        "id": "n8VoI6y6fIcU",
        "colab_type": "text"
      },
      "source": [
        "##### Fare"
      ]
    },
    {
      "cell_type": "code",
      "metadata": {
        "id": "wC2tv7ofegSx",
        "colab_type": "code",
        "colab": {}
      },
      "source": [
        ""
      ],
      "execution_count": 0,
      "outputs": []
    },
    {
      "cell_type": "markdown",
      "metadata": {
        "id": "RWhDpCWnfKrX",
        "colab_type": "text"
      },
      "source": [
        "##### Age"
      ]
    },
    {
      "cell_type": "code",
      "metadata": {
        "id": "bLhtTcnYfDbE",
        "colab_type": "code",
        "colab": {}
      },
      "source": [
        ""
      ],
      "execution_count": 0,
      "outputs": []
    },
    {
      "cell_type": "code",
      "metadata": {
        "id": "JnoYgAChfg0u",
        "colab_type": "code",
        "colab": {}
      },
      "source": [
        ""
      ],
      "execution_count": 0,
      "outputs": []
    },
    {
      "cell_type": "markdown",
      "metadata": {
        "id": "EBeCt-MmeKiS",
        "colab_type": "text"
      },
      "source": [
        "#### 7-4C) Convert categorical values to numerical (Sex, Embarked)"
      ]
    },
    {
      "cell_type": "markdown",
      "metadata": {
        "id": "uRSl2PJ8fk4d",
        "colab_type": "text"
      },
      "source": [
        "##### Sex"
      ]
    },
    {
      "cell_type": "code",
      "metadata": {
        "id": "9-Iy_E_yfpQ5",
        "colab_type": "code",
        "colab": {}
      },
      "source": [
        ""
      ],
      "execution_count": 0,
      "outputs": []
    },
    {
      "cell_type": "code",
      "metadata": {
        "id": "HRX6ty0OhS-K",
        "colab_type": "code",
        "colab": {}
      },
      "source": [
        ""
      ],
      "execution_count": 0,
      "outputs": []
    },
    {
      "cell_type": "markdown",
      "metadata": {
        "id": "0jESvCFefmpb",
        "colab_type": "text"
      },
      "source": [
        "##### Embarked"
      ]
    },
    {
      "cell_type": "code",
      "metadata": {
        "id": "Hr_btMb0iBSU",
        "colab_type": "code",
        "colab": {}
      },
      "source": [
        ""
      ],
      "execution_count": 0,
      "outputs": []
    },
    {
      "cell_type": "code",
      "metadata": {
        "id": "JSuME_YpiKTT",
        "colab_type": "code",
        "colab": {}
      },
      "source": [
        ""
      ],
      "execution_count": 0,
      "outputs": []
    },
    {
      "cell_type": "code",
      "metadata": {
        "id": "ldP0KTNvicLr",
        "colab_type": "code",
        "colab": {}
      },
      "source": [
        ""
      ],
      "execution_count": 0,
      "outputs": []
    },
    {
      "cell_type": "markdown",
      "metadata": {
        "id": "i8ElBIcR7ewM",
        "colab_type": "text"
      },
      "source": [
        "#### 7-4D) All data should be cleaned up and changed to numerical now.  Run .info() and .describe() to verify and get a feel for the data."
      ]
    },
    {
      "cell_type": "code",
      "metadata": {
        "id": "cQOBM_1Pik9O",
        "colab_type": "code",
        "colab": {}
      },
      "source": [
        ""
      ],
      "execution_count": 0,
      "outputs": []
    },
    {
      "cell_type": "code",
      "metadata": {
        "id": "5KawUwuqiujp",
        "colab_type": "code",
        "colab": {}
      },
      "source": [
        ""
      ],
      "execution_count": 0,
      "outputs": []
    },
    {
      "cell_type": "markdown",
      "metadata": {
        "id": "8gg4CShoZA15",
        "colab_type": "text"
      },
      "source": [
        "## Step 7-5: Apply the ML Model We Trained in Step 5"
      ]
    },
    {
      "cell_type": "markdown",
      "metadata": {
        "id": "mIVhqQ5XjPWU",
        "colab_type": "text"
      },
      "source": [
        "As with step 5, just follow along with this step, getting a high level understanding of the process, with the understanding to dive into the details in the future."
      ]
    },
    {
      "cell_type": "code",
      "metadata": {
        "colab_type": "code",
        "id": "Y8skytdqaR8t",
        "colab": {}
      },
      "source": [
        "predict_challenge=logmodel.predict(challenge)"
      ],
      "execution_count": 0,
      "outputs": []
    },
    {
      "cell_type": "code",
      "metadata": {
        "id": "5VQ5f1iCqGff",
        "colab_type": "code",
        "colab": {}
      },
      "source": [
        "predict_challenge"
      ],
      "execution_count": 0,
      "outputs": []
    },
    {
      "cell_type": "code",
      "metadata": {
        "id": "Wc-VVMB9qGfh",
        "colab_type": "code",
        "colab": {}
      },
      "source": [
        "predictdf=pd.DataFrame(predict_challenge,columns=['Survived'])\n",
        "predictdf.head()"
      ],
      "execution_count": 0,
      "outputs": []
    },
    {
      "cell_type": "code",
      "metadata": {
        "id": "yX37L7PUkCdy",
        "colab_type": "code",
        "colab": {}
      },
      "source": [
        "predictdf['PassengerId'] = challenge.index\n",
        "predictdf.head()"
      ],
      "execution_count": 0,
      "outputs": []
    },
    {
      "cell_type": "code",
      "metadata": {
        "id": "TPovPSbspz6O",
        "colab_type": "code",
        "colab": {}
      },
      "source": [
        "# Reorder the columns so that PassengerId is first\n",
        "predictdf = predictdf[['PassengerId', 'Survived']]\n",
        "predictdf.head()"
      ],
      "execution_count": 0,
      "outputs": []
    },
    {
      "cell_type": "code",
      "metadata": {
        "id": "MJI3XUNbqGfm",
        "colab_type": "code",
        "colab": {}
      },
      "source": [
        "# Create a csv file from the predictdf dataframe and name it `results.csv`\n",
        "predictdf.to_csv('result.csv',index=False)"
      ],
      "execution_count": 0,
      "outputs": []
    },
    {
      "cell_type": "code",
      "metadata": {
        "id": "kxAEAL5bpBjF",
        "colab_type": "code",
        "colab": {}
      },
      "source": [
        "# download the `results.csv` file to your computer\n",
        "from google.colab import files\n",
        "files.download('result.csv') "
      ],
      "execution_count": 0,
      "outputs": []
    },
    {
      "cell_type": "markdown",
      "metadata": {
        "id": "xgttOPTvZP2R",
        "colab_type": "text"
      },
      "source": [
        "## Step 7-Final: Submit the Results to Kaggle.com"
      ]
    },
    {
      "cell_type": "markdown",
      "metadata": {
        "id": "LQ6UuWP6qGfn",
        "colab_type": "text"
      },
      "source": [
        "#### Submit the `results` file to https://www.kaggle.com/c/titanic and see your score"
      ]
    },
    {
      "cell_type": "markdown",
      "metadata": {
        "id": "2Uv2QU3dAioJ",
        "colab_type": "text"
      },
      "source": [
        "## CONGRATS ON COMPLETING YOUR FIRST MACHINE LEARNING KAGGLE COMPETITION!!\n",
        "The first of many to come"
      ]
    },
    {
      "cell_type": "markdown",
      "metadata": {
        "id": "W7ZWB4gO8JH9",
        "colab_type": "text"
      },
      "source": [
        "### Final Considerations:\n",
        "- Was your score better or worse than the original benchmark?\n",
        "- Is there anything you could do differently in the data wrangling to potentially improve results?\n",
        "- Play around with the Logistic Regression algorithm settings from step 5 to see if you can improve the forecasting ability\n",
        "- Get more familiar with the ML algorithm evaluation tests in step 6 (e.g. confusion matrix)\n",
        "- For a new challenge, try copying this notebook, and in step 5 swap out the Logistic Regression ML algorithm for Random Forest, which uses multiple methods combined and typically improves prediction results vs. a simple logistic regression.\n",
        "- For an even more advanced challenge down the line, copy the notebook and replace the ML algorithm in step 5 with a Neural Network.\n",
        "- But before moving on to a new ML algorithm, I recommend you continue to play around with this existing Logistic Regression notebook, to see if improvements to your data wrangling or logistic regression settings improve your results."
      ]
    }
  ]
}